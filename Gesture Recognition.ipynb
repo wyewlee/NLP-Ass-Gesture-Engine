{
 "cells": [
  {
   "cell_type": "markdown",
   "metadata": {},
   "source": [
    "# Hand Gesture Decoder"
   ]
  },
  {
   "cell_type": "markdown",
   "metadata": {},
   "source": [
    "## Table of Content\n",
    "0. [Import Dependencies](#install)\n",
    "1. [Hands Detection using MediaPipe](#detection) \n",
    "2. [Feature Extraction](#feature-extraction) \n",
    "    1. [Write Columns Head in CSV File](#csv-header)\n",
    "    2. [Extract Features of Assigned Class](#save-coordinates)\n",
    "3. [Train Neural Network Using Tensorflow](#model)\n",
    "    1. [Load and Preprocess Input Data](#load-input)\n",
    "    2. [Train A MLP Model](#training)\n",
    "    3. [Evaluate and Serialize Model](#evaluate)\n",
    "4. [Real-time Detections with Model](#real-time-detection)\n",
    "5. [UI Console for Food Order](#UI-Console-for-Food-Order)\n",
    "6. [Construct Sentence: Custom Sign](#Custom-Sign)"
   ]
  },
  {
   "cell_type": "markdown",
   "metadata": {},
   "source": [
    "## 0. Import Dependencies <a id=\"install\"></a>"
   ]
  },
  {
   "cell_type": "code",
   "execution_count": 1,
   "metadata": {},
   "outputs": [
    {
     "name": "stdout",
     "output_type": "stream",
     "text": [
      "time: 0 ns (started: 2021-09-19 21:53:18 +08:00)\n"
     ]
    }
   ],
   "source": [
    "%load_ext autotime"
   ]
  },
  {
   "cell_type": "code",
   "execution_count": 1,
   "metadata": {},
   "outputs": [],
   "source": [
    "from mediapipe import solutions as mp\n",
    "import cv2\n",
    "import time\n",
    "import os\n",
    "import csv\n",
    "import numpy as np\n",
    "import pandas as pd\n",
    "import keyboard  \n",
    "from sklearn.preprocessing import LabelEncoder\n",
    "from sklearn.model_selection import train_test_split\n",
    "from tensorflow.keras import Sequential\n",
    "from tensorflow.keras.layers import Dense\n",
    "from tensorflow.keras.models import load_model\n",
    "import matplotlib.pyplot as plt\n",
    "import nltk\n",
    "from nltk import pos_tag, word_tokenize, RegexpParser"
   ]
  },
  {
   "cell_type": "markdown",
   "metadata": {},
   "source": [
    "## 1. Hands Detection using MediaPipe <a id=\"detection\"></a>"
   ]
  },
  {
   "cell_type": "markdown",
   "metadata": {},
   "source": [
    "To connect your phone camera:\n",
    "- Install `DroidCam` App on your phone and `DroidCam Client` on your laptop. \n",
    "- Put the IP address in the `cv2.VideoCapture()` below.\n",
    "- Or use other phone camera IP service provider."
   ]
  },
  {
   "cell_type": "code",
   "execution_count": 3,
   "metadata": {
    "scrolled": true
   },
   "outputs": [
    {
     "name": "stdout",
     "output_type": "stream",
     "text": [
      "time: 23.2 s (started: 2021-09-19 21:54:40 +08:00)\n"
     ]
    }
   ],
   "source": [
    "# Using phone camera ip with DroidCam\n",
    "# Webcam is 0\n",
    "#cap = cv2.VideoCapture(\"http://192.168.100.6:4747/mjpegfeed?640x480\")\n",
    "# cap = cv2.VideoCapture(\"http://192.168.0.160:4747/video?640x480\")\n",
    "cap = cv2.VideoCapture(0)\n",
    "\n",
    "pTime = 0\n",
    "\n",
    "# represents the top left corner of rectangle\n",
    "start_point = (300, 100)\n",
    "  \n",
    "# represents the bottom right corner of rectangle\n",
    "end_point = (600, 400)\n",
    "  \n",
    "# Blue color in BGR\n",
    "color = (255, 0, 0)\n",
    "  \n",
    "# Line thickness of 2 px\n",
    "thickness = 2\n",
    "\n",
    "with mp.hands.Hands(max_num_hands=1, min_detection_confidence=0.5, min_tracking_confidence=0.5) as hands:\n",
    "    while True:\n",
    "        success, frame = cap.read()\n",
    "        \n",
    "        if not success:\n",
    "            break\n",
    "\n",
    "        # Recolor feed\n",
    "        image = cv2.cvtColor(frame, cv2.COLOR_BGR2RGB)\n",
    "        \n",
    "        # Make detections\n",
    "        results = hands.process(image)\n",
    "\n",
    "        if results.multi_hand_landmarks:\n",
    "            for hand_landmark in results.multi_hand_landmarks:\n",
    "                \n",
    "                # Draw hand landmarks\n",
    "                mp.drawing_utils.draw_landmarks(image, hand_landmark, mp.hands.HAND_CONNECTIONS)\n",
    "                \n",
    "        \n",
    "        # Display framerate\n",
    "        cTime = time.time()\n",
    "        fps = 1/(cTime-pTime+0.01)\n",
    "        pTime = cTime\n",
    "        cv2.putText(image, f\"FPS: {int(fps)}\", (500, 50), cv2.FONT_HERSHEY_PLAIN,\n",
    "                    2, (255, 0, 0), 2)\n",
    "    \n",
    "        # Recolor for rendering\n",
    "        image = cv2.cvtColor(image, cv2.COLOR_RGB2BGR)\n",
    "        # Draw a rectangle with blue line borders of thickness of 2 px\n",
    "        image = cv2.rectangle(image, start_point, end_point, color, thickness)\n",
    "\n",
    "        \n",
    "        cv2.imshow(\"Hand detection\", image)\n",
    "        \n",
    "        # Press \"q\" to exit\n",
    "        if cv2.waitKey(1) & 0xFF == ord('q'):\n",
    "            break\n",
    "\n",
    "cap.release()\n",
    "cv2.destroyAllWindows()"
   ]
  },
  {
   "cell_type": "markdown",
   "metadata": {},
   "source": [
    "## 2. Feature Extraction <a id=\"feature-extraction\"></a>"
   ]
  },
  {
   "cell_type": "code",
   "execution_count": 5,
   "metadata": {},
   "outputs": [
    {
     "name": "stdout",
     "output_type": "stream",
     "text": [
      "time: 0 ns (started: 2021-09-19 21:55:20 +08:00)\n"
     ]
    }
   ],
   "source": [
    "num_coords = len(results.multi_hand_landmarks[0].landmark) \n",
    "num_coords"
   ]
  },
  {
   "cell_type": "markdown",
   "metadata": {},
   "source": [
    "### Write Columns Head in CSV File <a id=\"csv-header\"></a>"
   ]
  },
  {
   "cell_type": "code",
   "execution_count": 7,
   "metadata": {},
   "outputs": [
    {
     "name": "stdout",
     "output_type": "stream",
     "text": [
      "time: 0 ns (started: 2021-09-19 21:56:12 +08:00)\n"
     ]
    }
   ],
   "source": [
    "landmarks = ['class']\n",
    "for val in range(1, num_coords+1):\n",
    "    landmarks += ['x{}'.format(val), 'y{}'.format(val),\n",
    "                  'z{}'.format(val), 'v{}'.format(val)]"
   ]
  },
  {
   "cell_type": "code",
   "execution_count": null,
   "metadata": {},
   "outputs": [],
   "source": [
    "if not os.path.exists(\"data\"):\n",
    "    os.mkdir(\"data\")\n",
    "\n",
    "with open(\"data/hand_gesture_coords1.csv\", mode=\"w\", newline=\"\" ) as f:\n",
    "    csv_writer = csv.writer(f, delimiter=\",\", quotechar='\"',quoting=csv.QUOTE_MINIMAL)\n",
    "    #csv_writer.writerow(landmarks)"
   ]
  },
  {
   "cell_type": "markdown",
   "metadata": {},
   "source": [
    "### Extract Features from Assigned Class <a id=\"save-coordinates\"></a>"
   ]
  },
  {
   "cell_type": "code",
   "execution_count": null,
   "metadata": {},
   "outputs": [],
   "source": [
    "# Key in the class_name and start training :)\n",
    "class_name = \"Bad\"\n",
    "\n",
    "cap = cv2.VideoCapture(0)\n",
    "# cap = cv2.VideoCapture(\"http://192.168.0.160:4747/video?640x480\")\n",
    "\n",
    "pTime = 0\n",
    "\n",
    "# represents the top left corner of rectangle\n",
    "start_point = (300, 100)\n",
    "  \n",
    "# represents the bottom right corner of rectangle\n",
    "end_point = (600, 400)\n",
    "  \n",
    "# Blue color in BGR\n",
    "color = (255, 0, 0)\n",
    "  \n",
    "# Line thickness of 2 px\n",
    "thickness = 2\n",
    "  \n",
    "\n",
    "with mp.hands.Hands(max_num_hands=1, min_detection_confidence=0.5, min_tracking_confidence=0.5) as hands:\n",
    "\n",
    "    while True:\n",
    "        success, frame = cap.read()\n",
    "        \n",
    "        if not success:\n",
    "            break\n",
    "\n",
    "        # Recolor feed\n",
    "        image = cv2.cvtColor(frame, cv2.COLOR_BGR2RGB)\n",
    "\n",
    "        # Make detections\n",
    "        results = hands.process(image)\n",
    "\n",
    "        if results.multi_hand_landmarks:\n",
    "            for hand_landmark in results.multi_hand_landmarks:\n",
    "                \n",
    "                # Draw hand landmarks\n",
    "                mp.drawing_utils.draw_landmarks(image, hand_landmark, mp.hands.HAND_CONNECTIONS)\n",
    "                \n",
    "                hand = hand_landmark.landmark\n",
    "                row = list(np.array([[landmark.x, landmark.y, landmark.z, landmark.visibility] \n",
    "                                          for landmark in hand]).flatten())\n",
    "                \n",
    "                # Append class name\n",
    "                row.insert(0, class_name)\n",
    "            \n",
    "                # Export to CVS\n",
    "                with open(\"data/3_hand_gesture_coords.csv\", mode=\"a\", newline=\"\" ) as f:\n",
    "                    csv_writer = csv.writer(f, delimiter=\",\", quotechar='\"',quoting=csv.QUOTE_MINIMAL)\n",
    "                    csv_writer.writerow(row)  \n",
    "         \n",
    "                \n",
    "                # Display framerate\n",
    "                cTime = time.time()\n",
    "                fps = 1/(cTime-pTime+0.01)\n",
    "                pTime = cTime\n",
    "                cv2.putText(image, f\"FPS: {int(fps)}\", (500, 50), cv2.FONT_HERSHEY_PLAIN,\n",
    "                            2, (255, 0, 0), 2)\n",
    "    \n",
    "        # Recolor for rendering\n",
    "        image = cv2.cvtColor(image, cv2.COLOR_RGB2BGR)\n",
    "        # Draw a rectangle with blue line borders of thickness of 2 px\n",
    "        image = cv2.rectangle(image, start_point, end_point, color, thickness)\n",
    "\n",
    "\n",
    "        cv2.imshow(\"Hand detection\", image)\n",
    "\n",
    "        # Press \"q\" to exit\n",
    "        if cv2.waitKey(1) & 0xFF == ord('q'):\n",
    "            break\n",
    "\n",
    "cap.release()\n",
    "cv2.destroyAllWindows()"
   ]
  },
  {
   "cell_type": "markdown",
   "metadata": {},
   "source": [
    "## 3. Train Model <a id=\"model\"></a>"
   ]
  },
  {
   "cell_type": "markdown",
   "metadata": {},
   "source": [
    "### Load and Preprocess Input Data <a id=\"load-input\"></a>"
   ]
  },
  {
   "cell_type": "code",
   "execution_count": 8,
   "metadata": {},
   "outputs": [
    {
     "data": {
      "text/html": [
       "<div>\n",
       "<style scoped>\n",
       "    .dataframe tbody tr th:only-of-type {\n",
       "        vertical-align: middle;\n",
       "    }\n",
       "\n",
       "    .dataframe tbody tr th {\n",
       "        vertical-align: top;\n",
       "    }\n",
       "\n",
       "    .dataframe thead th {\n",
       "        text-align: right;\n",
       "    }\n",
       "</style>\n",
       "<table border=\"1\" class=\"dataframe\">\n",
       "  <thead>\n",
       "    <tr style=\"text-align: right;\">\n",
       "      <th></th>\n",
       "      <th>class</th>\n",
       "      <th>x1</th>\n",
       "      <th>y1</th>\n",
       "      <th>z1</th>\n",
       "      <th>v1</th>\n",
       "      <th>x2</th>\n",
       "      <th>y2</th>\n",
       "      <th>z2</th>\n",
       "      <th>v2</th>\n",
       "      <th>x3</th>\n",
       "      <th>...</th>\n",
       "      <th>z19</th>\n",
       "      <th>v19</th>\n",
       "      <th>x20</th>\n",
       "      <th>y20</th>\n",
       "      <th>z20</th>\n",
       "      <th>v20</th>\n",
       "      <th>x21</th>\n",
       "      <th>y21</th>\n",
       "      <th>z21</th>\n",
       "      <th>v21</th>\n",
       "    </tr>\n",
       "  </thead>\n",
       "  <tbody>\n",
       "    <tr>\n",
       "      <th>0</th>\n",
       "      <td>A</td>\n",
       "      <td>0.818861</td>\n",
       "      <td>0.958818</td>\n",
       "      <td>-0.000087</td>\n",
       "      <td>0.0</td>\n",
       "      <td>0.716710</td>\n",
       "      <td>0.951373</td>\n",
       "      <td>-0.030750</td>\n",
       "      <td>0.0</td>\n",
       "      <td>0.633200</td>\n",
       "      <td>...</td>\n",
       "      <td>-0.159684</td>\n",
       "      <td>0.0</td>\n",
       "      <td>0.808441</td>\n",
       "      <td>0.802288</td>\n",
       "      <td>-0.171632</td>\n",
       "      <td>0.0</td>\n",
       "      <td>0.814460</td>\n",
       "      <td>0.850506</td>\n",
       "      <td>-0.163828</td>\n",
       "      <td>0.0</td>\n",
       "    </tr>\n",
       "    <tr>\n",
       "      <th>1</th>\n",
       "      <td>A</td>\n",
       "      <td>0.815108</td>\n",
       "      <td>0.956479</td>\n",
       "      <td>-0.000005</td>\n",
       "      <td>0.0</td>\n",
       "      <td>0.717283</td>\n",
       "      <td>0.948766</td>\n",
       "      <td>-0.038836</td>\n",
       "      <td>0.0</td>\n",
       "      <td>0.634608</td>\n",
       "      <td>...</td>\n",
       "      <td>-0.202008</td>\n",
       "      <td>0.0</td>\n",
       "      <td>0.815489</td>\n",
       "      <td>0.811157</td>\n",
       "      <td>-0.207894</td>\n",
       "      <td>0.0</td>\n",
       "      <td>0.823417</td>\n",
       "      <td>0.855254</td>\n",
       "      <td>-0.199846</td>\n",
       "      <td>0.0</td>\n",
       "    </tr>\n",
       "    <tr>\n",
       "      <th>2</th>\n",
       "      <td>A</td>\n",
       "      <td>0.842646</td>\n",
       "      <td>0.907227</td>\n",
       "      <td>0.000024</td>\n",
       "      <td>0.0</td>\n",
       "      <td>0.743813</td>\n",
       "      <td>0.886639</td>\n",
       "      <td>-0.038206</td>\n",
       "      <td>0.0</td>\n",
       "      <td>0.673388</td>\n",
       "      <td>...</td>\n",
       "      <td>-0.138983</td>\n",
       "      <td>0.0</td>\n",
       "      <td>0.797442</td>\n",
       "      <td>0.674818</td>\n",
       "      <td>-0.148269</td>\n",
       "      <td>0.0</td>\n",
       "      <td>0.808649</td>\n",
       "      <td>0.709346</td>\n",
       "      <td>-0.139028</td>\n",
       "      <td>0.0</td>\n",
       "    </tr>\n",
       "    <tr>\n",
       "      <th>3</th>\n",
       "      <td>A</td>\n",
       "      <td>0.833049</td>\n",
       "      <td>0.869957</td>\n",
       "      <td>0.000057</td>\n",
       "      <td>0.0</td>\n",
       "      <td>0.745949</td>\n",
       "      <td>0.821337</td>\n",
       "      <td>-0.015351</td>\n",
       "      <td>0.0</td>\n",
       "      <td>0.674181</td>\n",
       "      <td>...</td>\n",
       "      <td>-0.029526</td>\n",
       "      <td>0.0</td>\n",
       "      <td>0.804144</td>\n",
       "      <td>0.597435</td>\n",
       "      <td>-0.025683</td>\n",
       "      <td>0.0</td>\n",
       "      <td>0.802209</td>\n",
       "      <td>0.639529</td>\n",
       "      <td>-0.008243</td>\n",
       "      <td>0.0</td>\n",
       "    </tr>\n",
       "    <tr>\n",
       "      <th>4</th>\n",
       "      <td>A</td>\n",
       "      <td>0.825694</td>\n",
       "      <td>0.833799</td>\n",
       "      <td>0.000026</td>\n",
       "      <td>0.0</td>\n",
       "      <td>0.725959</td>\n",
       "      <td>0.796512</td>\n",
       "      <td>-0.010373</td>\n",
       "      <td>0.0</td>\n",
       "      <td>0.655470</td>\n",
       "      <td>...</td>\n",
       "      <td>-0.001934</td>\n",
       "      <td>0.0</td>\n",
       "      <td>0.787375</td>\n",
       "      <td>0.544652</td>\n",
       "      <td>0.011513</td>\n",
       "      <td>0.0</td>\n",
       "      <td>0.792509</td>\n",
       "      <td>0.569234</td>\n",
       "      <td>0.045031</td>\n",
       "      <td>0.0</td>\n",
       "    </tr>\n",
       "    <tr>\n",
       "      <th>...</th>\n",
       "      <td>...</td>\n",
       "      <td>...</td>\n",
       "      <td>...</td>\n",
       "      <td>...</td>\n",
       "      <td>...</td>\n",
       "      <td>...</td>\n",
       "      <td>...</td>\n",
       "      <td>...</td>\n",
       "      <td>...</td>\n",
       "      <td>...</td>\n",
       "      <td>...</td>\n",
       "      <td>...</td>\n",
       "      <td>...</td>\n",
       "      <td>...</td>\n",
       "      <td>...</td>\n",
       "      <td>...</td>\n",
       "      <td>...</td>\n",
       "      <td>...</td>\n",
       "      <td>...</td>\n",
       "      <td>...</td>\n",
       "      <td>...</td>\n",
       "    </tr>\n",
       "    <tr>\n",
       "      <th>38613</th>\n",
       "      <td>Bad</td>\n",
       "      <td>0.188914</td>\n",
       "      <td>0.479379</td>\n",
       "      <td>-0.000015</td>\n",
       "      <td>0.0</td>\n",
       "      <td>0.240542</td>\n",
       "      <td>0.573310</td>\n",
       "      <td>-0.044875</td>\n",
       "      <td>0.0</td>\n",
       "      <td>0.308220</td>\n",
       "      <td>...</td>\n",
       "      <td>-0.122311</td>\n",
       "      <td>0.0</td>\n",
       "      <td>0.307734</td>\n",
       "      <td>0.383042</td>\n",
       "      <td>-0.123935</td>\n",
       "      <td>0.0</td>\n",
       "      <td>0.310903</td>\n",
       "      <td>0.384933</td>\n",
       "      <td>-0.102565</td>\n",
       "      <td>0.0</td>\n",
       "    </tr>\n",
       "    <tr>\n",
       "      <th>38614</th>\n",
       "      <td>Bad</td>\n",
       "      <td>0.188623</td>\n",
       "      <td>0.481701</td>\n",
       "      <td>-0.000016</td>\n",
       "      <td>0.0</td>\n",
       "      <td>0.241103</td>\n",
       "      <td>0.574722</td>\n",
       "      <td>-0.046163</td>\n",
       "      <td>0.0</td>\n",
       "      <td>0.308475</td>\n",
       "      <td>...</td>\n",
       "      <td>-0.125277</td>\n",
       "      <td>0.0</td>\n",
       "      <td>0.306331</td>\n",
       "      <td>0.388040</td>\n",
       "      <td>-0.123449</td>\n",
       "      <td>0.0</td>\n",
       "      <td>0.309363</td>\n",
       "      <td>0.387159</td>\n",
       "      <td>-0.103055</td>\n",
       "      <td>0.0</td>\n",
       "    </tr>\n",
       "    <tr>\n",
       "      <th>38615</th>\n",
       "      <td>Bad</td>\n",
       "      <td>0.181219</td>\n",
       "      <td>0.487331</td>\n",
       "      <td>-0.000019</td>\n",
       "      <td>0.0</td>\n",
       "      <td>0.234076</td>\n",
       "      <td>0.577485</td>\n",
       "      <td>-0.046855</td>\n",
       "      <td>0.0</td>\n",
       "      <td>0.302277</td>\n",
       "      <td>...</td>\n",
       "      <td>-0.109969</td>\n",
       "      <td>0.0</td>\n",
       "      <td>0.308011</td>\n",
       "      <td>0.390876</td>\n",
       "      <td>-0.109621</td>\n",
       "      <td>0.0</td>\n",
       "      <td>0.308677</td>\n",
       "      <td>0.391379</td>\n",
       "      <td>-0.085446</td>\n",
       "      <td>0.0</td>\n",
       "    </tr>\n",
       "    <tr>\n",
       "      <th>38616</th>\n",
       "      <td>Bad</td>\n",
       "      <td>0.181312</td>\n",
       "      <td>0.487031</td>\n",
       "      <td>-0.000018</td>\n",
       "      <td>0.0</td>\n",
       "      <td>0.233657</td>\n",
       "      <td>0.576865</td>\n",
       "      <td>-0.045361</td>\n",
       "      <td>0.0</td>\n",
       "      <td>0.303029</td>\n",
       "      <td>...</td>\n",
       "      <td>-0.113694</td>\n",
       "      <td>0.0</td>\n",
       "      <td>0.305936</td>\n",
       "      <td>0.393177</td>\n",
       "      <td>-0.110906</td>\n",
       "      <td>0.0</td>\n",
       "      <td>0.307880</td>\n",
       "      <td>0.392020</td>\n",
       "      <td>-0.086193</td>\n",
       "      <td>0.0</td>\n",
       "    </tr>\n",
       "    <tr>\n",
       "      <th>38617</th>\n",
       "      <td>Bad</td>\n",
       "      <td>0.184774</td>\n",
       "      <td>0.484635</td>\n",
       "      <td>0.000002</td>\n",
       "      <td>0.0</td>\n",
       "      <td>0.231555</td>\n",
       "      <td>0.577136</td>\n",
       "      <td>-0.057563</td>\n",
       "      <td>0.0</td>\n",
       "      <td>0.297972</td>\n",
       "      <td>...</td>\n",
       "      <td>-0.120602</td>\n",
       "      <td>0.0</td>\n",
       "      <td>0.302327</td>\n",
       "      <td>0.396275</td>\n",
       "      <td>-0.118986</td>\n",
       "      <td>0.0</td>\n",
       "      <td>0.306363</td>\n",
       "      <td>0.396013</td>\n",
       "      <td>-0.096192</td>\n",
       "      <td>0.0</td>\n",
       "    </tr>\n",
       "  </tbody>\n",
       "</table>\n",
       "<p>38618 rows × 85 columns</p>\n",
       "</div>"
      ],
      "text/plain": [
       "      class        x1        y1        z1   v1        x2        y2        z2  \\\n",
       "0         A  0.818861  0.958818 -0.000087  0.0  0.716710  0.951373 -0.030750   \n",
       "1         A  0.815108  0.956479 -0.000005  0.0  0.717283  0.948766 -0.038836   \n",
       "2         A  0.842646  0.907227  0.000024  0.0  0.743813  0.886639 -0.038206   \n",
       "3         A  0.833049  0.869957  0.000057  0.0  0.745949  0.821337 -0.015351   \n",
       "4         A  0.825694  0.833799  0.000026  0.0  0.725959  0.796512 -0.010373   \n",
       "...     ...       ...       ...       ...  ...       ...       ...       ...   \n",
       "38613   Bad  0.188914  0.479379 -0.000015  0.0  0.240542  0.573310 -0.044875   \n",
       "38614   Bad  0.188623  0.481701 -0.000016  0.0  0.241103  0.574722 -0.046163   \n",
       "38615   Bad  0.181219  0.487331 -0.000019  0.0  0.234076  0.577485 -0.046855   \n",
       "38616   Bad  0.181312  0.487031 -0.000018  0.0  0.233657  0.576865 -0.045361   \n",
       "38617   Bad  0.184774  0.484635  0.000002  0.0  0.231555  0.577136 -0.057563   \n",
       "\n",
       "        v2        x3  ...       z19  v19       x20       y20       z20  v20  \\\n",
       "0      0.0  0.633200  ... -0.159684  0.0  0.808441  0.802288 -0.171632  0.0   \n",
       "1      0.0  0.634608  ... -0.202008  0.0  0.815489  0.811157 -0.207894  0.0   \n",
       "2      0.0  0.673388  ... -0.138983  0.0  0.797442  0.674818 -0.148269  0.0   \n",
       "3      0.0  0.674181  ... -0.029526  0.0  0.804144  0.597435 -0.025683  0.0   \n",
       "4      0.0  0.655470  ... -0.001934  0.0  0.787375  0.544652  0.011513  0.0   \n",
       "...    ...       ...  ...       ...  ...       ...       ...       ...  ...   \n",
       "38613  0.0  0.308220  ... -0.122311  0.0  0.307734  0.383042 -0.123935  0.0   \n",
       "38614  0.0  0.308475  ... -0.125277  0.0  0.306331  0.388040 -0.123449  0.0   \n",
       "38615  0.0  0.302277  ... -0.109969  0.0  0.308011  0.390876 -0.109621  0.0   \n",
       "38616  0.0  0.303029  ... -0.113694  0.0  0.305936  0.393177 -0.110906  0.0   \n",
       "38617  0.0  0.297972  ... -0.120602  0.0  0.302327  0.396275 -0.118986  0.0   \n",
       "\n",
       "            x21       y21       z21  v21  \n",
       "0      0.814460  0.850506 -0.163828  0.0  \n",
       "1      0.823417  0.855254 -0.199846  0.0  \n",
       "2      0.808649  0.709346 -0.139028  0.0  \n",
       "3      0.802209  0.639529 -0.008243  0.0  \n",
       "4      0.792509  0.569234  0.045031  0.0  \n",
       "...         ...       ...       ...  ...  \n",
       "38613  0.310903  0.384933 -0.102565  0.0  \n",
       "38614  0.309363  0.387159 -0.103055  0.0  \n",
       "38615  0.308677  0.391379 -0.085446  0.0  \n",
       "38616  0.307880  0.392020 -0.086193  0.0  \n",
       "38617  0.306363  0.396013 -0.096192  0.0  \n",
       "\n",
       "[38618 rows x 85 columns]"
      ]
     },
     "execution_count": 8,
     "metadata": {},
     "output_type": "execute_result"
    },
    {
     "name": "stdout",
     "output_type": "stream",
     "text": [
      "time: 718 ms (started: 2021-09-19 21:56:59 +08:00)\n"
     ]
    }
   ],
   "source": [
    "df = pd.read_csv(\"data/3_hand_gesture_coords.csv\")\n",
    "df"
   ]
  },
  {
   "cell_type": "code",
   "execution_count": 9,
   "metadata": {},
   "outputs": [
    {
     "data": {
      "text/plain": [
       "M            1633\n",
       "P            1486\n",
       "L            1440\n",
       "G            1404\n",
       "V            1382\n",
       "OK           1317\n",
       "U            1306\n",
       "R            1301\n",
       "K            1287\n",
       "A            1285\n",
       "X            1259\n",
       "S            1238\n",
       "N            1230\n",
       "W            1206\n",
       "O            1198\n",
       "Q            1142\n",
       "D            1025\n",
       "H            1022\n",
       "Call Me      1021\n",
       "E            1010\n",
       "Y             987\n",
       "C             968\n",
       "I             960\n",
       "T             957\n",
       "F             938\n",
       "B             916\n",
       "Thank You     852\n",
       "Nice          842\n",
       "Bad           827\n",
       "No            811\n",
       "Bye           783\n",
       "J             762\n",
       "Z             747\n",
       "Hello         745\n",
       "Yes           714\n",
       "Love          617\n",
       "Name: class, dtype: int64"
      ]
     },
     "execution_count": 9,
     "metadata": {},
     "output_type": "execute_result"
    },
    {
     "name": "stdout",
     "output_type": "stream",
     "text": [
      "time: 15 ms (started: 2021-09-19 21:57:01 +08:00)\n"
     ]
    }
   ],
   "source": [
    "# Check all the class counts\n",
    "df['class'].value_counts()"
   ]
  },
  {
   "cell_type": "code",
   "execution_count": 10,
   "metadata": {},
   "outputs": [
    {
     "name": "stdout",
     "output_type": "stream",
     "text": [
      "time: 32 ms (started: 2021-09-19 21:57:06 +08:00)\n"
     ]
    }
   ],
   "source": [
    "# Split into input and output columns\n",
    "X = df.drop(\"class\", axis=1)\n",
    "y = df[\"class\"]\n",
    "\n",
    "# Ensure all data are floating point values\n",
    "X = X.astype('float32')\n",
    "\n",
    "# Encode strings to integer\n",
    "le = LabelEncoder()\n",
    "y = le.fit_transform(y)\n",
    "np.save(\"data/hand_geture_classes.npy\", le.classes_)"
   ]
  },
  {
   "cell_type": "code",
   "execution_count": 11,
   "metadata": {},
   "outputs": [
    {
     "name": "stdout",
     "output_type": "stream",
     "text": [
      "Original dataset shape Counter({17: 1633, 23: 1486, 15: 1440, 9: 1404, 30: 1382, 22: 1317, 29: 1306, 25: 1301, 14: 1287, 0: 1285, 32: 1259, 26: 1238, 18: 1230, 31: 1206, 21: 1198, 24: 1142, 6: 1025, 10: 1022, 5: 1021, 7: 1010, 33: 987, 4: 968, 12: 960, 27: 957, 8: 938, 1: 916, 28: 852, 19: 842, 2: 827, 20: 811, 3: 783, 13: 762, 35: 747, 11: 745, 34: 714, 16: 617})\n",
      "time: 0 ns (started: 2021-09-19 21:58:02 +08:00)\n"
     ]
    }
   ],
   "source": [
    "from collections import Counter\n",
    "print('Original dataset shape %s' % Counter(y))"
   ]
  },
  {
   "cell_type": "code",
   "execution_count": 12,
   "metadata": {},
   "outputs": [
    {
     "name": "stdout",
     "output_type": "stream",
     "text": [
      "time: 4.64 s (started: 2021-09-19 21:58:07 +08:00)\n"
     ]
    }
   ],
   "source": [
    "# Using SMOTE for Imbalanced Classification\n",
    "from collections import Counter\n",
    "from imblearn.over_sampling import SMOTE\n",
    "from imblearn.under_sampling import RandomUnderSampler\n",
    "from imblearn.pipeline import Pipeline\n",
    "\n",
    "over = SMOTE(random_state=42, n_jobs=-1, k_neighbors=4)\n",
    "under = RandomUnderSampler(sampling_strategy=0.5)\n",
    "steps = [('o', over), ('u', under)]\n",
    "pipeline = Pipeline(steps=steps)\n",
    "\n",
    "X_res, y_res = over.fit_resample(X, y)\n"
   ]
  },
  {
   "cell_type": "code",
   "execution_count": 13,
   "metadata": {
    "scrolled": true
   },
   "outputs": [
    {
     "name": "stdout",
     "output_type": "stream",
     "text": [
      "Resampled dataset shape Counter({0: 1633, 1: 1633, 4: 1633, 6: 1633, 7: 1633, 8: 1633, 9: 1633, 10: 1633, 12: 1633, 14: 1633, 15: 1633, 17: 1633, 18: 1633, 21: 1633, 23: 1633, 24: 1633, 25: 1633, 26: 1633, 27: 1633, 29: 1633, 30: 1633, 31: 1633, 32: 1633, 33: 1633, 13: 1633, 35: 1633, 11: 1633, 28: 1633, 16: 1633, 5: 1633, 34: 1633, 20: 1633, 22: 1633, 3: 1633, 19: 1633, 2: 1633})\n",
      "time: 0 ns (started: 2021-09-19 21:58:17 +08:00)\n"
     ]
    }
   ],
   "source": [
    "print('Resampled dataset shape %s' % Counter(y_res))"
   ]
  },
  {
   "cell_type": "code",
   "execution_count": 14,
   "metadata": {},
   "outputs": [
    {
     "name": "stdout",
     "output_type": "stream",
     "text": [
      "(47030, 84) (11758, 84) (47030,) (11758,)\n",
      "time: 47 ms (started: 2021-09-19 21:59:03 +08:00)\n"
     ]
    }
   ],
   "source": [
    "# Split into train and test datasets\n",
    "X_train, X_test, y_train, y_test = train_test_split(X_res, y_res, test_size=0.2, random_state=47)\n",
    "\n",
    "# Determine the number of input features\n",
    "n_features = X_train.shape[1]\n",
    "\n",
    "# Determine the number or classes\n",
    "n_class = len(np.unique(y_train))\n",
    "\n",
    "print(X_train.shape, X_test.shape, y_train.shape, y_test.shape)"
   ]
  },
  {
   "cell_type": "markdown",
   "metadata": {},
   "source": [
    "### Train A MLP Model <a id=\"training\"></a>"
   ]
  },
  {
   "cell_type": "code",
   "execution_count": 15,
   "metadata": {},
   "outputs": [
    {
     "name": "stdout",
     "output_type": "stream",
     "text": [
      "time: 1.67 s (started: 2021-09-19 21:59:06 +08:00)\n"
     ]
    }
   ],
   "source": [
    "# Define a model with the sequential api\n",
    "def create_model():\n",
    "    model = Sequential()\n",
    "    model.add(Dense(10, activation='relu', kernel_initializer='he_normal', input_shape=(n_features,)))\n",
    "    model.add(Dense(10, activation='relu', kernel_initializer='he_normal'))\n",
    "    model.add(Dense(n_class, activation='softmax'))\n",
    "    return model\n",
    "\n",
    "model = create_model()\n",
    "\n"
   ]
  },
  {
   "cell_type": "code",
   "execution_count": 16,
   "metadata": {},
   "outputs": [
    {
     "data": {
      "image/png": "[encoded data removed]",
      "text/plain": [
       "<Figure size 432x288 with 1 Axes>"
      ]
     },
     "metadata": {
      "needs_background": "light"
     },
     "output_type": "display_data"
    },
    {
     "name": "stdout",
     "output_type": "stream",
     "text": [
      "time: 1min 36s (started: 2021-09-19 21:59:08 +08:00)\n"
     ]
    }
   ],
   "source": [
    "# Compile the model\n",
    "model.compile(optimizer='adam', loss='sparse_categorical_crossentropy', metrics=['accuracy'])\n",
    "\n",
    "# Fit the model\n",
    "history = model.fit(X_train, y_train, epochs=100, batch_size=32, verbose=0, validation_split=0.2, shuffle=True,\n",
    "                   use_multiprocessing=True)\n",
    "\n",
    "# Plot learning curves\n",
    "plt.title('Learning Curves')\n",
    "plt.xlabel('Epoch')\n",
    "plt.ylabel('Cross Entropy')\n",
    "plt.plot(history.history['loss'], label='train')\n",
    "plt.plot(history.history['val_loss'], label='val')\n",
    "plt.legend()\n",
    "plt.show()"
   ]
  },
  {
   "cell_type": "markdown",
   "metadata": {},
   "source": [
    "### Evaluate and Serialize Model <a id=\"evaluate\"></a>"
   ]
  },
  {
   "cell_type": "code",
   "execution_count": 17,
   "metadata": {},
   "outputs": [
    {
     "name": "stdout",
     "output_type": "stream",
     "text": [
      "Test Accuracy: 0.967\n",
      "Predicted: [[0.0000000e+00 0.0000000e+00 0.0000000e+00 0.0000000e+00 0.0000000e+00\n",
      "  0.0000000e+00 0.0000000e+00 0.0000000e+00 0.0000000e+00 0.0000000e+00\n",
      "  0.0000000e+00 0.0000000e+00 2.0376253e-21 0.0000000e+00 0.0000000e+00\n",
      "  0.0000000e+00 0.0000000e+00 0.0000000e+00 0.0000000e+00 0.0000000e+00\n",
      "  0.0000000e+00 1.0000000e+00 0.0000000e+00 0.0000000e+00 0.0000000e+00\n",
      "  0.0000000e+00 0.0000000e+00 0.0000000e+00 0.0000000e+00 0.0000000e+00\n",
      "  0.0000000e+00 0.0000000e+00 0.0000000e+00 5.1228727e-10 0.0000000e+00\n",
      "  0.0000000e+00]] (class=21 | O)\n",
      "time: 390 ms (started: 2021-09-19 22:00:48 +08:00)\n"
     ]
    }
   ],
   "source": [
    "# Evaluate the model\n",
    "loss, acc = model.evaluate(X_test, y_test, verbose=0)\n",
    "print('Test Accuracy: %.3f' % acc)\n",
    "\n",
    "# Make a prediction\n",
    "row = np.random.randn(1, n_features)\n",
    "yhat = model.predict([row])\n",
    "print('Predicted: %s (class=%d | %s)' % (yhat, np.argmax(yhat), list(le.inverse_transform([np.argmax(yhat)]))[0]))"
   ]
  },
  {
   "cell_type": "code",
   "execution_count": 18,
   "metadata": {},
   "outputs": [
    {
     "name": "stdout",
     "output_type": "stream",
     "text": [
      "time: 31 ms (started: 2021-09-19 22:00:49 +08:00)\n"
     ]
    }
   ],
   "source": [
    "if not os.path.exists(\"generated_model\"):\n",
    "    os.mkdir(\"generated_model\")\n",
    "    \n",
    "# Save model to file\n",
    "model.save(\"generated_model/3.1a_hand_gesture_model.h5\")"
   ]
  },
  {
   "cell_type": "markdown",
   "metadata": {},
   "source": [
    "## 4. Real-time Detections with Model <a id=\"real-time-detection\"></a>"
   ]
  },
  {
   "cell_type": "code",
   "execution_count": 2,
   "metadata": {},
   "outputs": [],
   "source": [
    "# Load the model from file\n",
    "model_inference = load_model(\"generated_model/3.1a_hand_gesture_model.h5\")\n",
    "\n",
    "# Load the class names\n",
    "le = LabelEncoder()\n",
    "le.classes_ = np.load(\"data/hand_geture_classes.npy\", allow_pickle=True)\n",
    "\n",
    "# Define a text list to store result\n",
    "text = []"
   ]
  },
  {
   "cell_type": "code",
   "execution_count": 3,
   "metadata": {},
   "outputs": [],
   "source": [
    "def SignDetection(text):\n",
    "    cap = cv2.VideoCapture(0)\n",
    "\n",
    "    pTime = 0\n",
    "\n",
    "    # represents the top left corner of rectangle\n",
    "    start_point = (300, 60)\n",
    "\n",
    "    # represents the bottom right corner of rectangle\n",
    "    end_point = (600, 380)\n",
    "\n",
    "    # Blue color in BGR\n",
    "    color = (255, 0, 0)\n",
    "\n",
    "    # Line thickness of 2 px\n",
    "    thickness = 2\n",
    "\n",
    "    result = []\n",
    "\n",
    "    with mp.hands.Hands(max_num_hands=1, min_detection_confidence=0.5, min_tracking_confidence=0.5) as hands:\n",
    "\n",
    "        while True:\n",
    "            success, frame = cap.read()\n",
    "\n",
    "            if not success:\n",
    "                break\n",
    "\n",
    "            # Recolor feed\n",
    "            image = cv2.cvtColor(frame, cv2.COLOR_BGR2RGB)\n",
    "\n",
    "            # Make detections\n",
    "            results = hands.process(image)\n",
    "\n",
    "            if results.multi_hand_landmarks:\n",
    "                for hand_landmark in results.multi_hand_landmarks:\n",
    "\n",
    "                    # Draw hand landmarks\n",
    "                    mp.drawing_utils.draw_landmarks(image, hand_landmark, mp.hands.HAND_CONNECTIONS)\n",
    "\n",
    "                    hand = hand_landmark.landmark\n",
    "                    row = np.array([[landmark.x, landmark.y, landmark.z, landmark.visibility] \n",
    "                                              for landmark in hand]).flatten()\n",
    "\n",
    "                    # Predict using inference model\n",
    "                    pred = model_inference.predict(row.reshape(1, -1))\n",
    "                    class_name = list(le.inverse_transform([np.argmax(pred)]))[0]\n",
    "                    prob = np.max(pred).round(2)\n",
    "                    output = ''.join(result)  # Define Output Text\n",
    "                    #print(class_name, prob)  \n",
    "\n",
    "                    # Display result \n",
    "                    cv2.rectangle(image, (0,0), (250,60), (245, 117, 16), -1)\n",
    "                    cv2.putText(image, \"CLASS\", (95,12), cv2.FONT_HERSHEY_SIMPLEX,\n",
    "                               0.5, (0,0,0), 1, cv2.LINE_AA)\n",
    "                    cv2.putText(image, class_name, (90,40), cv2.FONT_HERSHEY_SIMPLEX,\n",
    "                               1, (255, 255, 255), 2, cv2.LINE_AA)\n",
    "                    cv2.putText(image, \"PROB\", (15,12), cv2.FONT_HERSHEY_SIMPLEX,\n",
    "                               0.5, (0,0,0), 1, cv2.LINE_AA)\n",
    "                    cv2.putText(image, str(prob), (10,40), cv2.FONT_HERSHEY_SIMPLEX,\n",
    "                               1, (255, 255, 255), 2, cv2.LINE_AA)\n",
    "\n",
    "                    # Display Output Text\n",
    "                    cv2.rectangle(image, (0,400), (650,500), (245, 117, 16), -1)\n",
    "                    cv2.putText(image, \"RESULT\", (15,420), cv2.FONT_HERSHEY_SIMPLEX,\n",
    "                               0.5, (0,0,0), 1, cv2.LINE_AA)\n",
    "                    cv2.putText(image, output, (10,460), cv2.FONT_HERSHEY_SIMPLEX,\n",
    "                               1, (255, 255, 255), 2, cv2.LINE_AA) \n",
    "\n",
    "\n",
    "                    # Display framerate\n",
    "                    cTime = time.time()\n",
    "                    fps = 1/(cTime-pTime)\n",
    "                    pTime = cTime\n",
    "                    cv2.putText(image, f\"FPS: {int(fps)}\", (500, 50), cv2.FONT_HERSHEY_PLAIN,\n",
    "                                2, (255, 0, 0), 2)\n",
    "\n",
    "                    # Retrieve Output Text\n",
    "                    if (prob >= 0.8) & (keyboard.is_pressed(\"enter\")):  # Detect 'm' input\n",
    "                        result.append(class_name)\n",
    "                        time.sleep(1)\n",
    "\n",
    "                    if (keyboard.is_pressed(\"space\")):  # Detect 'n' input to add space\n",
    "                        result.append(' ')\n",
    "                        time.sleep(1)\n",
    "\n",
    "\n",
    "            # Recolor for rendering\n",
    "            image = cv2.cvtColor(image, cv2.COLOR_RGB2BGR)\n",
    "            # Draw a rectangle with blue line borders of thickness of 2 px\n",
    "            image = cv2.rectangle(image, start_point, end_point, color, thickness)\n",
    "\n",
    "\n",
    "            cv2.imshow(\"Hand detection\", image)\n",
    "\n",
    "            if cv2.waitKey(1) & 0xFF == ord('q'):\n",
    "                break\n",
    "\n",
    "    cap.release()\n",
    "    cv2.destroyAllWindows()\n",
    "\n",
    "    # Store into text list\n",
    "    if result:   #If not empty list, then append\n",
    "        text.append(''.join(result))\n"
   ]
  },
  {
   "cell_type": "markdown",
   "metadata": {},
   "source": [
    "https://www.kaggle.com/datamunge/sign-language-mnist"
   ]
  },
  {
   "cell_type": "markdown",
   "metadata": {},
   "source": [
    "## 5. UI Console for Food Order<a id=\"UI-Console-for-Food-Order\"></a>"
   ]
  },
  {
   "cell_type": "code",
   "execution_count": 21,
   "metadata": {},
   "outputs": [
    {
     "data": {
      "text/html": [
       "<div>\n",
       "<style scoped>\n",
       "    .dataframe tbody tr th:only-of-type {\n",
       "        vertical-align: middle;\n",
       "    }\n",
       "\n",
       "    .dataframe tbody tr th {\n",
       "        vertical-align: top;\n",
       "    }\n",
       "\n",
       "    .dataframe thead th {\n",
       "        text-align: right;\n",
       "    }\n",
       "</style>\n",
       "<table border=\"1\" class=\"dataframe\">\n",
       "  <thead>\n",
       "    <tr style=\"text-align: right;\">\n",
       "      <th></th>\n",
       "      <th>Name</th>\n",
       "      <th>Category</th>\n",
       "      <th>Price</th>\n",
       "    </tr>\n",
       "  </thead>\n",
       "  <tbody>\n",
       "    <tr>\n",
       "      <th>0</th>\n",
       "      <td>MOCHA</td>\n",
       "      <td>COFFEE</td>\n",
       "      <td>8.99</td>\n",
       "    </tr>\n",
       "    <tr>\n",
       "      <th>1</th>\n",
       "      <td>LATTE</td>\n",
       "      <td>COFFEE</td>\n",
       "      <td>9.99</td>\n",
       "    </tr>\n",
       "    <tr>\n",
       "      <th>2</th>\n",
       "      <td>CHOCO</td>\n",
       "      <td>COFFEE</td>\n",
       "      <td>10.99</td>\n",
       "    </tr>\n",
       "    <tr>\n",
       "      <th>3</th>\n",
       "      <td>APPLE</td>\n",
       "      <td>JUICE</td>\n",
       "      <td>7.99</td>\n",
       "    </tr>\n",
       "    <tr>\n",
       "      <th>4</th>\n",
       "      <td>OREN</td>\n",
       "      <td>JUICE</td>\n",
       "      <td>6.99</td>\n",
       "    </tr>\n",
       "    <tr>\n",
       "      <th>5</th>\n",
       "      <td>MANGO</td>\n",
       "      <td>JUICE</td>\n",
       "      <td>5.99</td>\n",
       "    </tr>\n",
       "    <tr>\n",
       "      <th>6</th>\n",
       "      <td>PANDAN</td>\n",
       "      <td>CAKE</td>\n",
       "      <td>12.59</td>\n",
       "    </tr>\n",
       "    <tr>\n",
       "      <th>7</th>\n",
       "      <td>CARAMEL</td>\n",
       "      <td>CAKE</td>\n",
       "      <td>10.10</td>\n",
       "    </tr>\n",
       "    <tr>\n",
       "      <th>8</th>\n",
       "      <td>CARROT</td>\n",
       "      <td>CAKE</td>\n",
       "      <td>15.20</td>\n",
       "    </tr>\n",
       "  </tbody>\n",
       "</table>\n",
       "</div>"
      ],
      "text/plain": [
       "      Name Category  Price\n",
       "0    MOCHA   COFFEE   8.99\n",
       "1    LATTE   COFFEE   9.99\n",
       "2    CHOCO   COFFEE  10.99\n",
       "3    APPLE    JUICE   7.99\n",
       "4     OREN    JUICE   6.99\n",
       "5    MANGO    JUICE   5.99\n",
       "6   PANDAN     CAKE  12.59\n",
       "7  CARAMEL     CAKE  10.10\n",
       "8   CARROT     CAKE  15.20"
      ]
     },
     "execution_count": 21,
     "metadata": {},
     "output_type": "execute_result"
    },
    {
     "name": "stdout",
     "output_type": "stream",
     "text": [
      "time: 0 ns (started: 2021-09-19 22:01:00 +08:00)\n"
     ]
    }
   ],
   "source": [
    "# Create a Virtual Menu by using dataframe  \n",
    "data = {'Name': ['MOCHA', 'LATTE', 'CHOCO', 'APPLE', 'OREN', 'MANGO', 'PANDAN', 'CARAMEL', 'CARROT'], \n",
    "        'Category': ['COFFEE', 'COFFEE', 'COFFEE', 'JUICE', 'JUICE', 'JUICE', 'CAKE', 'CAKE', 'CAKE'],\n",
    "        'Price': [8.99, 9.99, 10.99, 7.99, 6.99, 5.99, 12.59, 10.10, 15.20]}  \n",
    "df = pd.DataFrame(data)\n",
    "df"
   ]
  },
  {
   "cell_type": "code",
   "execution_count": 24,
   "metadata": {},
   "outputs": [
    {
     "name": "stdout",
     "output_type": "stream",
     "text": [
      "time: 0 ns (started: 2021-09-19 22:03:02 +08:00)\n"
     ]
    }
   ],
   "source": [
    "def Menu(text):\n",
    "    rslt_df = df.loc[df['Category'] == text[0]]\n",
    "    rslt_df = rslt_df.reset_index(drop=True)\n",
    "    print(\"\\n\\nPlease Pick One From Below: \")\n",
    "    print(\"Name        Price\")\n",
    "    print(\"-----------------\")\n",
    "    for x in range(len(rslt_df)):\n",
    "        print('%s       %.2f' % (rslt_df['Name'][x], rslt_df['Price'][x]))\n",
    "    print(\"\\n\")\n"
   ]
  },
  {
   "cell_type": "code",
   "execution_count": 25,
   "metadata": {},
   "outputs": [
    {
     "name": "stdout",
     "output_type": "stream",
     "text": [
      "time: 0 ns (started: 2021-09-19 22:03:02 +08:00)\n"
     ]
    }
   ],
   "source": [
    "def Price(text):\n",
    "    rslt_df = df.loc[df['Name'] == text[1]]\n",
    "    rslt_df = rslt_df.reset_index(drop=True)\n",
    "    for x in range(len(rslt_df)):\n",
    "        text.append(rslt_df['Price'][x])\n"
   ]
  },
  {
   "cell_type": "code",
   "execution_count": 26,
   "metadata": {},
   "outputs": [
    {
     "name": "stdout",
     "output_type": "stream",
     "text": [
      "time: 0 ns (started: 2021-09-19 22:03:21 +08:00)\n"
     ]
    }
   ],
   "source": [
    "def Order(text): \n",
    "    a = input(\"ZhenLi Coffee Shop \\n\" \n",
    "              \"Please Pick One Category to Proceed \\n\"\n",
    "              \" - Coffee \\n - Juice \\n - Cake \\n\"\n",
    "              \"1. Start Sign Detection \\n\"\n",
    "              \"Your input is: \")\n",
    "    userinput = int(a)\n",
    "    \n",
    "    if (userinput == 1):\n",
    "        print(\"\\nOpening Camera....\")\n",
    "        print(\"Tips: 'Enter' to confirm sign || 'q' to end program\")\n",
    "        SignDetection(text) # Return user input\n",
    "        print(\"\\nYou have picked : \" + text[0])\n",
    "        rslt_df = df.loc[df['Category'] == text[0]]\n",
    "        Menu(text)  #Print all menu item\n",
    "        \n",
    "        b = input(\"1. Start Sign Detection \\n\"\n",
    "                  \"Your input is: \")\n",
    "        userinput = int(b)\n",
    "        if (userinput == 1):\n",
    "            print(\"\\nOpening Camera....\")\n",
    "            print(\"Tips: 'Enter' to confirm sign || 'q' to end program\")\n",
    "            SignDetection(text)\n",
    "            print(\"\\nYou have picked : \" + text[1])\n",
    "        else: \n",
    "            raise Exception(\"Please Enter Correct Input\") \n",
    "        \n",
    "        Price(text)    #Find the price\n",
    "        \n",
    "        print(\"\\n\\n--------------\")\n",
    "        print(\"Your Orders:\")\n",
    "        print(\"--------------\")\n",
    "        print(\"You have ordered a %s %s\" %(text[1],text[0]))\n",
    "        print(\"Total Price: RM %.2f\" %text[2])\n",
    "        print(\"\\n\")\n",
    "    else: \n",
    "        raise Exception(\"Please Enter Correct Input\") \n",
    "    \n",
    "    return text"
   ]
  },
  {
   "cell_type": "code",
   "execution_count": 27,
   "metadata": {},
   "outputs": [
    {
     "name": "stdout",
     "output_type": "stream",
     "text": [
      "ZhenLi Coffee Shop \n",
      "Please Pick One Category to Proceed \n",
      " - Coffee \n",
      " - Juice \n",
      " - Cake \n",
      "1. Start Sign Detection \n",
      "Your input is: 1\n",
      "\n",
      "Opening Camera....\n",
      "Tips: 'Enter' to confirm sign || 'q' to end program\n",
      "\n",
      "You have picked : CAKE\n",
      "\n",
      "\n",
      "Please Pick One From Below: \n",
      "Name        Price\n",
      "-----------------\n",
      "PANDAN       12.59\n",
      "CARAMEL       10.10\n",
      "CARROT       15.20\n",
      "\n",
      "\n",
      "1. Start Sign Detection \n",
      "Your input is: 1\n",
      "\n",
      "Opening Camera....\n",
      "Tips: 'Enter' to confirm sign || 'q' to end program\n",
      "\n",
      "You have picked : PANDAN\n",
      "\n",
      "\n",
      "--------------\n",
      "Your Orders:\n",
      "--------------\n",
      "You have ordered a PANDAN CAKE\n",
      "Total Price: RM 12.59\n",
      "\n",
      "\n",
      "time: 3min 17s (started: 2021-09-19 22:04:47 +08:00)\n"
     ]
    }
   ],
   "source": [
    "# Define a text list to store result\n",
    "text = []\n",
    "food = Order(text)"
   ]
  },
  {
   "cell_type": "markdown",
   "metadata": {},
   "source": [
    "## 6. Construct Sentence: Custom Sign<a id=\"Custom-Sign\"></a>"
   ]
  },
  {
   "cell_type": "code",
   "execution_count": 4,
   "metadata": {},
   "outputs": [
    {
     "data": {
      "text/plain": [
       "Text(0.5, 1.0, 'Bad')"
      ]
     },
     "execution_count": 4,
     "metadata": {},
     "output_type": "execute_result"
    },
    {
     "data": {
      "image/png": "[encoded data removed]",
      "text/plain": [
       "<Figure size 720x504 with 10 Axes>"
      ]
     },
     "metadata": {
      "needs_background": "light"
     },
     "output_type": "display_data"
    }
   ],
   "source": [
    "# code for displaying multiple images in one figure\n",
    "  \n",
    "#import libraries\n",
    "import cv2\n",
    "from matplotlib import pyplot as plt\n",
    "  \n",
    "# create figure\n",
    "fig = plt.figure(figsize=(10, 7))\n",
    "  \n",
    "# setting values to rows and column variables\n",
    "rows = 2\n",
    "columns = 5\n",
    "  \n",
    "# reading images\n",
    "Image1 = cv2.imread('sign_pic/hello.png')\n",
    "Image2 = cv2.imread('sign_pic/thank you.png')\n",
    "Image3 = cv2.imread('sign_pic/love.png')\n",
    "Image4 = cv2.imread('sign_pic/call me.png')\n",
    "Image5 = cv2.imread('sign_pic/yes.png')\n",
    "Image6 = cv2.imread('sign_pic/no.png')\n",
    "Image7 = cv2.imread('sign_pic/bye.png')\n",
    "Image8 = cv2.imread('sign_pic/ok.png')\n",
    "Image9 = cv2.imread('sign_pic/nice.png')\n",
    "Image10 = cv2.imread('sign_pic/bad.png')\n",
    "\n",
    "# Adds a subplot at the 1st position\n",
    "fig.add_subplot(rows, columns, 1)\n",
    "  \n",
    "# showing image\n",
    "plt.imshow(Image1)\n",
    "plt.axis('off')\n",
    "plt.title(\"Hello\")\n",
    "  \n",
    "# Adds a subplot at the 2nd position\n",
    "fig.add_subplot(rows, columns, 2)\n",
    "  \n",
    "# showing image\n",
    "plt.imshow(Image2)\n",
    "plt.axis('off')\n",
    "plt.title(\"Thank you\")\n",
    "  \n",
    "# Adds a subplot at the 3rd position\n",
    "fig.add_subplot(rows, columns, 3)\n",
    "  \n",
    "# showing image\n",
    "plt.imshow(Image3)\n",
    "plt.axis('off')\n",
    "plt.title(\"Love\")\n",
    "  \n",
    "# Adds a subplot at the 4th position\n",
    "fig.add_subplot(rows, columns, 4)\n",
    "  \n",
    "# showing image\n",
    "plt.imshow(Image4)\n",
    "plt.axis('off')\n",
    "plt.title(\"Call me\")\n",
    "\n",
    "# Adds a subplot at the 4th position\n",
    "fig.add_subplot(rows, columns, 5)\n",
    "  \n",
    "# showing image\n",
    "plt.imshow(Image5)\n",
    "plt.axis('off')\n",
    "plt.title(\"Yes\")\n",
    "\n",
    "# Adds a subplot at the 4th position\n",
    "fig.add_subplot(rows, columns, 6)\n",
    "  \n",
    "# showing image\n",
    "plt.imshow(Image6)\n",
    "plt.axis('off')\n",
    "plt.title(\"No\")\n",
    "\n",
    "# Adds a subplot at the 4th position\n",
    "fig.add_subplot(rows, columns, 7)\n",
    "  \n",
    "# showing image\n",
    "plt.imshow(Image7)\n",
    "plt.axis('off')\n",
    "plt.title(\"Bye\")\n",
    "\n",
    "# Adds a subplot at the 4th position\n",
    "fig.add_subplot(rows, columns, 8)\n",
    "  \n",
    "# showing image\n",
    "plt.imshow(Image8)\n",
    "plt.axis('off')\n",
    "plt.title(\"Ok\")\n",
    "\n",
    "# Adds a subplot at the 4th position\n",
    "fig.add_subplot(rows, columns, 9)\n",
    "  \n",
    "# showing image\n",
    "plt.imshow(Image9)\n",
    "plt.axis('off')\n",
    "plt.title(\"Nice\")\n",
    "\n",
    "# Adds a subplot at the 4th position\n",
    "fig.add_subplot(rows, columns, 10)\n",
    "  \n",
    "# showing image\n",
    "plt.imshow(Image10)\n",
    "plt.axis('off')\n",
    "plt.title(\"Bad\")"
   ]
  },
  {
   "cell_type": "code",
   "execution_count": 5,
   "metadata": {},
   "outputs": [],
   "source": [
    "df1 = pd.DataFrame()\n",
    "text1 = []\n",
    "\n",
    "def CustomSign(text1): \n",
    "    a = input(\"1. Start Sign Detection \\n\"\n",
    "              \"Your input is: \")\n",
    "    userinput = int(a)\n",
    "    \n",
    "    if (userinput == 1):\n",
    "        print(\"\\nOpening Camera....\")\n",
    "        print(\"Tips: 'Enter' to confirm sign || 'q' to end program\")\n",
    "        SignDetection(text1) # Return user input\n",
    "        print(\"\\nYour Sentence is: \" + ' '.join(map(str, text1)))\n",
    "    \n",
    "    else: \n",
    "        raise Exception(\"Please Enter Correct Input\") \n",
    "    \n",
    "    return text1"
   ]
  },
  {
   "cell_type": "code",
   "execution_count": 6,
   "metadata": {},
   "outputs": [
    {
     "name": "stdout",
     "output_type": "stream",
     "text": [
      "1. Start Sign Detection \n",
      "Your input is: 1\n",
      "\n",
      "Opening Camera....\n",
      "Tips: 'Enter' to confirm sign || 'q' to end program\n",
      "\n",
      "Your Sentence is: Hello Call Me Thank You Bye\n"
     ]
    }
   ],
   "source": [
    "text1 = CustomSign(text1)"
   ]
  },
  {
   "cell_type": "markdown",
   "metadata": {},
   "source": [
    "# Pos Tagging"
   ]
  },
  {
   "cell_type": "code",
   "execution_count": 7,
   "metadata": {},
   "outputs": [
    {
     "data": {
      "text/html": [
       "<div>\n",
       "<style scoped>\n",
       "    .dataframe tbody tr th:only-of-type {\n",
       "        vertical-align: middle;\n",
       "    }\n",
       "\n",
       "    .dataframe tbody tr th {\n",
       "        vertical-align: top;\n",
       "    }\n",
       "\n",
       "    .dataframe thead th {\n",
       "        text-align: right;\n",
       "    }\n",
       "</style>\n",
       "<table border=\"1\" class=\"dataframe\">\n",
       "  <thead>\n",
       "    <tr style=\"text-align: right;\">\n",
       "      <th></th>\n",
       "      <th>text</th>\n",
       "      <th>tagged_text</th>\n",
       "    </tr>\n",
       "  </thead>\n",
       "  <tbody>\n",
       "    <tr>\n",
       "      <th>0</th>\n",
       "      <td>Hello Call Me Thank You Bye</td>\n",
       "      <td>[(Hello, NNP), (Call, NNP), (Me, NNP), (Thank,...</td>\n",
       "    </tr>\n",
       "  </tbody>\n",
       "</table>\n",
       "</div>"
      ],
      "text/plain": [
       "                          text  \\\n",
       "0  Hello Call Me Thank You Bye   \n",
       "\n",
       "                                         tagged_text  \n",
       "0  [(Hello, NNP), (Call, NNP), (Me, NNP), (Thank,...  "
      ]
     },
     "execution_count": 7,
     "metadata": {},
     "output_type": "execute_result"
    }
   ],
   "source": [
    "# Create DataFrame\n",
    "df1 = pd.DataFrame(columns = ['text', 'tagged_text'])\n",
    "\n",
    "for x in text1:\n",
    "    tag_text = word_tokenize(x)\n",
    "    pos_text = nltk.pos_tag(tag_text)\n",
    "    #Insert into dataframe\n",
    "    df1_length = len(df1)\n",
    "    df1.loc[df1_length] = [x,pos_text]\n",
    "    \n",
    "df1"
   ]
  },
  {
   "cell_type": "markdown",
   "metadata": {},
   "source": [
    "# Parse Tree"
   ]
  },
  {
   "cell_type": "code",
   "execution_count": 8,
   "metadata": {},
   "outputs": [
    {
     "name": "stdout",
     "output_type": "stream",
     "text": [
      "Before Extracting\n",
      " Hello Call Me Thank You Bye\n",
      "After Extracting\n",
      " (S Hello/NNP Call/NNP Me/NNP Thank/NNP You/PRP (VP (V Bye/VBP)))\n"
     ]
    }
   ],
   "source": [
    "# Extract all parts of speech from any text\n",
    "chunker = RegexpParser(\"\"\"\n",
    "                       NP: {<DT>?<JJ>*<NN>}    #To extract Noun Phrases\n",
    "                       P: {<IN>}               #To extract Prepositions\n",
    "                       V: {<V.*>}              #To extract Verbs\n",
    "                       PP: {<p> <NP>}          #To extract Prepositional Phrases\n",
    "                       VP: {<V> <NP|PP>*}      #To extract Verb Phrases\n",
    "                       \"\"\")\n",
    "\n",
    "# Print all parts of speech in above sentence\n",
    "for x in range(len(df1)):\n",
    "    print(\"Before Extracting\\n\", df1['text'][x])\n",
    "    output = chunker.parse(df1['tagged_text'][x])\n",
    "    print(\"After Extracting\\n\", output)\n",
    "    \n",
    "    # To draw the parse tree\n",
    "    output.draw()"
   ]
  },
  {
   "cell_type": "markdown",
   "metadata": {},
   "source": [
    "# Natural Language Generation"
   ]
  },
  {
   "cell_type": "code",
   "execution_count": null,
   "metadata": {},
   "outputs": [],
   "source": []
  },
  {
   "cell_type": "code",
   "execution_count": null,
   "metadata": {},
   "outputs": [],
   "source": []
  }
 ],
 "metadata": {
  "kernelspec": {
   "display_name": "Python 3",
   "language": "python",
   "name": "python3"
  },
  "language_info": {
   "codemirror_mode": {
    "name": "ipython",
    "version": 3
   },
   "file_extension": ".py",
   "mimetype": "text/x-python",
   "name": "python",
   "nbconvert_exporter": "python",
   "pygments_lexer": "ipython3",
   "version": "3.8.5"
  }
 },
 "nbformat": 4,
 "nbformat_minor": 5
}
