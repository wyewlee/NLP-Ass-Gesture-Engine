{
 "cells": [
  {
   "cell_type": "code",
   "execution_count": 1,
   "metadata": {},
   "outputs": [
    {
     "name": "stdout",
     "output_type": "stream",
     "text": [
      "      Name Category  Price\n",
      "0    Mocha   Coffee   8.99\n",
      "1    Latte   Coffee   9.99\n",
      "2    Choco   Coffee  10.99\n",
      "3    Apple    Juice   7.99\n",
      "4     Oren    Juice   6.99\n",
      "5    Mango    Juice   5.99\n",
      "6   Pandan     Cake  12.59\n",
      "7  Caramel     Cake  10.10\n",
      "8   Carrot     Cake  15.20\n"
     ]
    }
   ],
   "source": [
    "import pandas as pd\n",
    "\n",
    "# assign data of lists.  \n",
    "data = {'Name': ['Mocha', 'Latte', 'Choco', 'Apple', 'Oren', 'Mango', 'Pandan', 'Caramel', 'Carrot'], \n",
    "        'Category': ['Coffee', 'Coffee', 'Coffee', 'Juice', 'Juice', 'Juice', 'Cake', 'Cake', 'Cake'],\n",
    "        'Price': [8.99, 9.99, 10.99, 7.99, 6.99, 5.99, 12.59, 10.10, 15.20]}  \n",
    "df = pd.DataFrame(data)\n",
    "print(df)"
   ]
  },
  {
   "cell_type": "code",
   "execution_count": 6,
   "metadata": {},
   "outputs": [],
   "source": [
    "def Main(): \n",
    "    a = input(\"ZhenLi Coffee Shop \\n\" \n",
    "              \"Please Pick One Category to Proceed \\n\"\n",
    "              \" - Coffee \\n - Juice \\n - Cake \\n\"\n",
    "              \"1. Start Sign Detection \\n\"\n",
    "              \"Your input is: \")\n",
    "    userinput = int(a)\n",
    "    \n",
    "    if (userinput == 1):\n",
    "        print(\"\\nOpening Camera....\")\n",
    "        #encode_text() \n",
    "          \n",
    "        \n",
    "    else: \n",
    "        raise Exception(\"Enter correct input\") "
   ]
  },
  {
   "cell_type": "code",
   "execution_count": 7,
   "metadata": {},
   "outputs": [
    {
     "name": "stdout",
     "output_type": "stream",
     "text": [
      "ZhenLi Coffee Shop \n",
      "Please Pick One Category to Proceed \n",
      " - Coffee \n",
      " - Juice \n",
      " -Cake \n",
      "1. Start Sign Detection \n",
      "Your input is: 1\n",
      "\n",
      "Coffee....\n"
     ]
    }
   ],
   "source": [
    "Main()"
   ]
  },
  {
   "cell_type": "code",
   "execution_count": null,
   "metadata": {},
   "outputs": [],
   "source": []
  }
 ],
 "metadata": {
  "kernelspec": {
   "display_name": "Python 3",
   "language": "python",
   "name": "python3"
  },
  "language_info": {
   "codemirror_mode": {
    "name": "ipython",
    "version": 3
   },
   "file_extension": ".py",
   "mimetype": "text/x-python",
   "name": "python",
   "nbconvert_exporter": "python",
   "pygments_lexer": "ipython3",
   "version": "3.8.5"
  }
 },
 "nbformat": 4,
 "nbformat_minor": 4
}
