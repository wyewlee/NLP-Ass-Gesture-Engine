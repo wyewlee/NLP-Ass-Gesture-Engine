{
 "cells": [
  {
   "cell_type": "markdown",
   "metadata": {},
   "source": [
    "### Import Dependencies"
   ]
  },
  {
   "cell_type": "code",
   "execution_count": 1,
   "metadata": {},
   "outputs": [],
   "source": [
    "from mediapipe import solutions as mp\n",
    "import cv2\n",
    "from google.protobuf.json_format import MessageToDict\n",
    "import time\n",
    "import os\n"
   ]
  },
  {
   "cell_type": "markdown",
   "metadata": {},
   "source": [
    "### Load Fingers Images "
   ]
  },
  {
   "cell_type": "markdown",
   "metadata": {},
   "source": [
    "- These finger images will be shown on the webcam according to the prediction made. "
   ]
  },
  {
   "cell_type": "code",
   "execution_count": 2,
   "metadata": {},
   "outputs": [
    {
     "name": "stdout",
     "output_type": "stream",
     "text": [
      "sign_images/finger_2.png\n",
      "sign_images/finger_3.png\n",
      "sign_images/finger_4.png\n",
      "sign_images/finger_5.png\n",
      "sign_images/sign_A.png\n",
      "sign_images/sign_B.png\n",
      "6\n"
     ]
    }
   ],
   "source": [
    "# Load finger images \n",
    "#folder_path = \"finger_images\"\n",
    "folder_path = \"sign_images\"\n",
    "\n",
    "overlay_list = []\n",
    "\n",
    "for img_path in os.listdir(folder_path):\n",
    "    image = cv2.imread(f\"{folder_path}/{img_path}\")\n",
    "    print(f\"{folder_path}/{img_path}\")\n",
    "    overlay_list.append(image)\n",
    "print(len(overlay_list))"
   ]
  },
  {
   "cell_type": "markdown",
   "metadata": {},
   "source": [
    "### Finger Count Detector"
   ]
  },
  {
   "cell_type": "markdown",
   "metadata": {},
   "source": [
    "To connect your phone camera:\n",
    "- Install `DroidCam` App on your phone and `DroidCam Client` on your laptop. \n",
    "- Put the IP address in the `cv2.VideoCapture()` below.\n",
    "- Or use other phone camera IP service provider."
   ]
  },
  {
   "cell_type": "code",
   "execution_count": 3,
   "metadata": {
    "scrolled": true
   },
   "outputs": [],
   "source": [
    "# Using phone camera ip with DroidCam\n",
    "# Webcam is 0\n",
    "cap = cv2.VideoCapture(\"http://192.168.49.1:4747/mjpegfeed?640x480\")\n",
    "tip_id = [4, 8, 12, 16, 20]\n",
    "pTime = 0\n",
    "\n",
    "with mp.hands.Hands(max_num_hands=1, min_detection_confidence=0.5, min_tracking_confidence=0.5) as hands:\n",
    "\n",
    "    while True:\n",
    "        success, frame = cap.read()\n",
    "        lm_list = []\n",
    "\n",
    "        # Recolor Feed\n",
    "        image = cv2.cvtColor(frame, cv2.COLOR_BGR2RGB)\n",
    "\n",
    "        results = hands.process(image)\n",
    "\n",
    "        if results.multi_hand_landmarks:\n",
    "            for hand_landmark in results.multi_hand_landmarks:\n",
    "                for idx, lm in enumerate(hand_landmark.landmark):\n",
    "                    h, w, c = image.shape\n",
    "                    cx, cy = int(lm.x*w), int(lm.y*h)\n",
    "                    lm_list.append([idx, cx, cy])\n",
    "                        \n",
    "                mp.drawing_utils.draw_landmarks(\n",
    "                    image, hand_landmark, mp.hands.HAND_CONNECTIONS)\n",
    "        \n",
    "        # Detect handedness\n",
    "        if results.multi_handedness:\n",
    "            for idx, hand_handedness in enumerate(results.multi_handedness):\n",
    "                handedness_dict = MessageToDict(hand_handedness)    \n",
    "        \n",
    "        # Detect finger count\n",
    "        total_fingers = 0\n",
    "        if len(lm_list) != 0:\n",
    "            fingers = []\n",
    "            for id in tip_id:\n",
    "                \n",
    "                # Thumb\n",
    "                if id == tip_id[0]:\n",
    "                    # When using front camera, the handedness is mirrored\n",
    "                    if results.multi_handedness[0].classification[0].label == \"Left\":\n",
    "                        if lm_list[id][1] > lm_list[id-1][1]:\n",
    "                            fingers.append(1)\n",
    "                            continue\n",
    "                        else:\n",
    "                            fingers.append(0)\n",
    "                            continue\n",
    "                    else:\n",
    "\n",
    "                        if lm_list[id][1] < lm_list[id-1][1]:\n",
    "                            fingers.append(1)\n",
    "                            continue\n",
    "                        else:\n",
    "                            fingers.append(0)\n",
    "                            continue\n",
    "                # 4 fingers    \n",
    "                if lm_list[id][2] < lm_list[id-2][2]:\n",
    "                    fingers.append(1)\n",
    "                else:\n",
    "                    fingers.append(0)\n",
    "\n",
    "            total_fingers = fingers.count(1)\n",
    "            \n",
    "\n",
    "        # Display finger_image that is detected        \n",
    "        h, w, c = overlay_list[total_fingers].shape\n",
    "        image[0:h, 0:w] = overlay_list[total_fingers]\n",
    "        \n",
    "        cv2.rectangle(image, (20, 225), (140, 425), (0, 255, 0), cv2.FILLED)\n",
    "        cv2.putText(image, str(total_fingers), (30, 375), cv2.FONT_HERSHEY_PLAIN, \n",
    "                                              10, (255, 0, 0), 25)\n",
    "        \n",
    "        # Display framerate\n",
    "        cTime = time.time()\n",
    "        fps = 1/(cTime-pTime)\n",
    "        pTime = cTime\n",
    "        cv2.putText(image, f\"FPS: {int(fps)}\", (500, 50), cv2.FONT_HERSHEY_PLAIN,\n",
    "                    2, (255, 0, 0), 2)\n",
    "    \n",
    "        # Recolor for rendering\n",
    "        image = cv2.cvtColor(image, cv2.COLOR_RGB2BGR)\n",
    "\n",
    "        cv2.imshow(\"Hand detection\", image)\n",
    "\n",
    "        if cv2.waitKey(1) & 0xFF == ord('q'):\n",
    "            break\n",
    "\n",
    "cap.release()\n",
    "cv2.destroyAllWindows()"
   ]
  },
  {
   "cell_type": "markdown",
   "metadata": {},
   "source": [
    "<!-- ![image](https://user-images.githubusercontent.com/60457367/123659592-715aba80-d865-11eb-9acd-a15b719c2fe9.png) -->"
   ]
  },
  {
   "cell_type": "code",
   "execution_count": null,
   "metadata": {},
   "outputs": [],
   "source": []
  }
 ],
 "metadata": {
  "celltoolbar": "Edit Metadata",
  "kernelspec": {
   "display_name": "Python 3",
   "language": "python",
   "name": "python3"
  },
  "language_info": {
   "codemirror_mode": {
    "name": "ipython",
    "version": 3
   },
   "file_extension": ".py",
   "mimetype": "text/x-python",
   "name": "python",
   "nbconvert_exporter": "python",
   "pygments_lexer": "ipython3",
   "version": "3.8.5"
  }
 },
 "nbformat": 4,
 "nbformat_minor": 5
}
