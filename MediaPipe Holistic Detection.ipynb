{
 "cells": [
  {
   "cell_type": "markdown",
   "id": "9d664ba9",
   "metadata": {},
   "source": [
    "### Import Dependencies"
   ]
  },
  {
   "cell_type": "code",
   "execution_count": 1,
   "id": "95c09ab6",
   "metadata": {},
   "outputs": [],
   "source": [
    "from mediapipe import solutions as mp\n",
    "import cv2"
   ]
  },
  {
   "cell_type": "markdown",
   "id": "cba18b6e",
   "metadata": {},
   "source": [
    "### Get Realtime Webcam Feed"
   ]
  },
  {
   "cell_type": "code",
   "execution_count": 2,
   "id": "db3f4d41",
   "metadata": {},
   "outputs": [],
   "source": [
    "cap = cv2.VideoCapture(0)\n",
    "while cap.isOpened():\n",
    "    ret, frame = cap.read()\n",
    "    cv2.imshow(\"Raw Webcam Feed\", frame)\n",
    "\n",
    "    # Press \"q\" to exit\n",
    "    if cv2.waitKey(10) & 0xFF == ord('q'):\n",
    "        break\n",
    "\n",
    "cap.release()\n",
    "cv2.destroyAllWindows()"
   ]
  },
  {
   "cell_type": "markdown",
   "id": "8ed9e531",
   "metadata": {},
   "source": [
    "### Make Detections from Feed"
   ]
  },
  {
   "cell_type": "markdown",
   "id": "587fef21",
   "metadata": {},
   "source": [
    "1. Detect Facial Landmarks\n",
    "2. Detect Hand Poses\n",
    "3. Detect Body Poses"
   ]
  },
  {
   "cell_type": "code",
   "execution_count": 3,
   "id": "d85d34ff",
   "metadata": {},
   "outputs": [],
   "source": [
    "cap = cv2.VideoCapture(0)\n",
    "\n",
    "# Initiate holistic model\n",
    "with mp.holistic.Holistic(min_detection_confidence=0.5, min_tracking_confidence=0.5) as holistic:\n",
    "\n",
    "    while cap.isOpened():\n",
    "        ret, frame = cap.read()\n",
    "\n",
    "        # Recolor feed\n",
    "        image = cv2.cvtColor(frame, cv2.COLOR_BGR2RGB)\n",
    "        \n",
    "        # Make detections\n",
    "        results = holistic.process(image)\n",
    "\n",
    "        # Recolor for rendering\n",
    "        image = cv2.cvtColor(image, cv2.COLOR_RGB2BGR)\n",
    "\n",
    "        # Draw face landmarks\n",
    "        mp.drawing_utils.draw_landmarks(\n",
    "            image, results.face_landmarks, mp.holistic.FACE_CONNECTIONS)\n",
    "\n",
    "        # Right hand\n",
    "        mp.drawing_utils.draw_landmarks(\n",
    "            image, results.right_hand_landmarks, mp.holistic.HAND_CONNECTIONS)\n",
    "\n",
    "        # Left hand\n",
    "        mp.drawing_utils.draw_landmarks(\n",
    "            image, results.left_hand_landmarks, mp.holistic.HAND_CONNECTIONS)\n",
    "\n",
    "        # Pose \n",
    "        mp.drawing_utils.draw_landmarks(\n",
    "            image, results.pose_landmarks, mp.holistic.POSE_CONNECTIONS)\n",
    "\n",
    "        cv2.imshow(\"Holistic Model Detection\", image)\n",
    "\n",
    "        if cv2.waitKey(10) & 0xFF == ord('q'):\n",
    "            break\n",
    "\n",
    "cap.release()\n",
    "cv2.destroyAllWindows()"
   ]
  },
  {
   "cell_type": "markdown",
   "id": "b8d17fb5",
   "metadata": {},
   "source": [
    "### Apply Styling"
   ]
  },
  {
   "cell_type": "code",
   "execution_count": 4,
   "id": "7276f7c3",
   "metadata": {},
   "outputs": [],
   "source": [
    "cap = cv2.VideoCapture(0)\n",
    "\n",
    "# Initiate holistic model\n",
    "with mp.holistic.Holistic(min_detection_confidence=0.5, min_tracking_confidence=0.5) as holistic:\n",
    "\n",
    "    while cap.isOpened():\n",
    "        ret, frame = cap.read()\n",
    "\n",
    "        # Recolor feed\n",
    "        image = cv2.cvtColor(frame, cv2.COLOR_BGR2RGB)\n",
    "\n",
    "        # Make detections\n",
    "        results = holistic.process(image)\n",
    "\n",
    "        # Recolor for rendering\n",
    "        image = cv2.cvtColor(image, cv2.COLOR_RGB2BGR)\n",
    "\n",
    "        # Draw face landmarks\n",
    "        mp.drawing_utils.draw_landmarks(image, results.face_landmarks, mp.holistic.FACE_CONNECTIONS,\n",
    "                                        mp.drawing_utils.DrawingSpec(\n",
    "                                            color=(242, 216, 175), thickness=1, circle_radius=1),\n",
    "                                        mp.drawing_utils.DrawingSpec(color=(242, 216, 175), thickness=1))\n",
    "\n",
    "        # Right hand\n",
    "        mp.drawing_utils.draw_landmarks(image, results.right_hand_landmarks, mp.holistic.HAND_CONNECTIONS,\n",
    "                                        mp.drawing_utils.DrawingSpec(\n",
    "                                            color=(181, 137, 82), thickness=2, circle_radius=4),\n",
    "                                        mp.drawing_utils.DrawingSpec(color=(181, 137, 82), thickness=2))\n",
    "\n",
    "        # Left hand\n",
    "        mp.drawing_utils.draw_landmarks(image, results.left_hand_landmarks, mp.holistic.HAND_CONNECTIONS,\n",
    "                                        mp.drawing_utils.DrawingSpec(\n",
    "                                            color=(181, 137, 82), thickness=2, circle_radius=4),\n",
    "                                        mp.drawing_utils.DrawingSpec(color=(181, 137, 82), thickness=2))\n",
    "\n",
    "        # Pose \n",
    "        mp.drawing_utils.draw_landmarks(image, results.pose_landmarks, mp.holistic.POSE_CONNECTIONS,\n",
    "                                        mp.drawing_utils.DrawingSpec(\n",
    "                                            color=(65, 53, 31), thickness=2, circle_radius=2),\n",
    "                                        mp.drawing_utils.DrawingSpec(color=(65, 53, 31), thickness=2))\n",
    "\n",
    "        cv2.imshow(\"Holistic Model Detection\", image)\n",
    "\n",
    "        if cv2.waitKey(10) & 0xFF == ord('q'):\n",
    "            break\n",
    "\n",
    "cap.release()\n",
    "cv2.destroyAllWindows()"
   ]
  },
  {
   "cell_type": "code",
   "execution_count": null,
   "id": "31b0076c",
   "metadata": {},
   "outputs": [],
   "source": []
  }
 ],
 "metadata": {
  "kernelspec": {
   "display_name": "Python 3",
   "language": "python",
   "name": "python3"
  }
 },
 "nbformat": 4,
 "nbformat_minor": 5
}